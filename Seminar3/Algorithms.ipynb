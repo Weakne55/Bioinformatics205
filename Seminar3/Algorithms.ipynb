{
 "cells": [
  {
   "cell_type": "markdown",
   "id": "4f9cca76-0c5a-44c4-b176-a7b493fa8bc7",
   "metadata": {},
   "source": [
    "## Примеры на сегодня"
   ]
  },
  {
   "cell_type": "raw",
   "id": "eafa2d8a-604f-4dc2-82b6-881cdca265e0",
   "metadata": {},
   "source": [
    "1. ДНК последовательности (состоящие из нуклеотидов A, T, C, G):\n",
    "   • seq1 = \"ATCGTAGC\"\n",
    "   • seq2 = \"ATCGTACG\"\n",
    "   • seq3 = \"GCTAGCTA\"\n",
    "   • seq4 = \"TACGATCG\"\n",
    "2. РНК последовательности (состоящие из нуклеотидов A, U, C, G):\n",
    "   • rna1 = \"AUGCUAGC\"\n",
    "   • rna2 = \"AUGCUGCA\"\n",
    "   • rna3 = \"GCUAGCUA\"\n",
    "   • rna4 = \"UACGAUCG\"\n",
    "3. Белковые последовательности (состоящие из аминокислот, обозначаемых однобуквенными кодами):\n",
    "   • protein1 = \"ACDEFGHIKLMNPQRSTVWY\"\n",
    "   • protein2 = \"ACDFGHIKLMNPRSTVWY\"\n",
    "   • protein3 = \"ACDEFGHLMNPQRSTVWX\"\n",
    "   • protein4 = \"ABCDEFGHIJKLMN\""
   ]
  },
  {
   "cell_type": "code",
   "execution_count": 1,
   "id": "9a181c9c-92a5-4eed-9319-cd5f97b02df3",
   "metadata": {},
   "outputs": [],
   "source": [
    "seq1 = \"ATCGTAGC\"\n",
    "seq2 = \"ATCGTACG\"\n",
    "seq3 = \"GCTAGCTA\"\n",
    "seq4 = \"TACGATCG\"\n",
    "rna1 = \"AUGCUAGC\"\n",
    "rna2 = \"AUGCUGCA\"\n",
    "rna3 = \"GCUAGCUA\"\n",
    "rna4 = \"UACGAUCG\"\n",
    "protein1 = \"ACDEFGHIKLMNPQRSTVWY\"\n",
    "protein2 = \"ACDFGHIKLMNPRSTVWY\"\n",
    "protein3 = \"ACDEFGHLMNPQRSTVWX\"\n",
    "protein4 = \"ABCDEFGHIJKLMN\""
   ]
  },
  {
   "cell_type": "markdown",
   "id": "c4fa8eed-c467-40ca-b079-d9f32f625376",
   "metadata": {},
   "source": [
    "# Hamming distance"
   ]
  },
  {
   "cell_type": "code",
   "execution_count": 2,
   "id": "ddb69442-bfca-4144-bb1c-39800047a7fe",
   "metadata": {},
   "outputs": [],
   "source": [
    "def hamming_distance(s1, s2):\n",
    "    if len(s1) != len(s2):\n",
    "        raise ValueError(\"Strings must be of the same length\")\n",
    "    return sum(el1 != el2 for el1, el2 in zip(s1, s2))"
   ]
  },
  {
   "cell_type": "code",
   "execution_count": 3,
   "id": "7e9a2f68-fcbe-4901-9305-ba5d914a592e",
   "metadata": {},
   "outputs": [
    {
     "data": {
      "text/plain": [
       "2"
      ]
     },
     "execution_count": 3,
     "metadata": {},
     "output_type": "execute_result"
    }
   ],
   "source": [
    "hamming_distance(seq1, seq2)"
   ]
  },
  {
   "cell_type": "markdown",
   "id": "550ac0ee-643b-4b40-a01e-e9cce93d6b1a",
   "metadata": {},
   "source": [
    "# Levenshtein distance"
   ]
  },
  {
   "cell_type": "code",
   "execution_count": 4,
   "id": "5d866430-8dda-4b5b-8379-6ef8930c8ea1",
   "metadata": {},
   "outputs": [],
   "source": [
    "def levenshtein_distance(s1, s2):\n",
    "    dp = [[0] * (len(s2) + 1) for _ in range(len(s1) + 1)]\n",
    "    \n",
    "    for i in range(len(s1) + 1):\n",
    "        dp[i][0] = i\n",
    "    for j in range(len(s2) + 1):\n",
    "        dp[0][j] = j\n",
    "    \n",
    "    for i in range(1, len(s1) + 1):\n",
    "        for j in range(1, len(s2) + 1):\n",
    "            if s1[i - 1] == s2[j - 1]:\n",
    "                dp[i][j] = dp[i - 1][j - 1]\n",
    "            else:\n",
    "                dp[i][j] = min(dp[i - 1][j] + 1,    # Удаление\n",
    "                               dp[i][j - 1] + 1,    # Вставка\n",
    "                               dp[i - 1][j - 1] + 1)  # Замена\n",
    "    \n",
    "    return dp[len(s1)][len(s2)]\n"
   ]
  },
  {
   "cell_type": "code",
   "execution_count": 5,
   "id": "3ca201e4-0455-46eb-af83-678acc78a361",
   "metadata": {},
   "outputs": [
    {
     "data": {
      "text/plain": [
       "2"
      ]
     },
     "execution_count": 5,
     "metadata": {},
     "output_type": "execute_result"
    }
   ],
   "source": [
    "levenshtein_distance(seq1, seq2)"
   ]
  },
  {
   "cell_type": "markdown",
   "id": "fcdac47f-913b-4759-9a4a-af232b9c7a68",
   "metadata": {},
   "source": [
    "# Задача манхэттенского туриста"
   ]
  },
  {
   "cell_type": "code",
   "execution_count": 6,
   "id": "d80a90c8-2310-4f50-ad87-4bf6b45de6c1",
   "metadata": {},
   "outputs": [],
   "source": [
    "def manhattan_tourist(n, m, down, right):\n",
    "    dp = [[0] * (m + 1) for _ in range(n + 1)]\n",
    "    \n",
    "    for i in range(n + 1):\n",
    "        for j in range(m + 1):\n",
    "            if i == 0 and j == 0:\n",
    "                dp[i][j] = 0\n",
    "            elif i == 0:\n",
    "                dp[i][j] = dp[i][j - 1] + right[j - 1]\n",
    "            elif j == 0:\n",
    "                dp[i][j] = dp[i - 1][j] + down[i - 1]\n",
    "            else:\n",
    "                dp[i][j] = max(dp[i - 1][j] + down[i - 1], dp[i][j - 1] + right[j - 1])\n",
    "    \n",
    "    return dp[n][m]"
   ]
  },
  {
   "cell_type": "code",
   "execution_count": 7,
   "id": "942a59d3-c08f-4137-8ce7-791ae5d40c54",
   "metadata": {},
   "outputs": [
    {
     "name": "stdout",
     "output_type": "stream",
     "text": [
      "Максимальное расстояние манхэттенского туриста: 21\n"
     ]
    }
   ],
   "source": [
    "# Пример использования\n",
    "n = 3\n",
    "m = 3\n",
    "down = [1, 2, 3]\n",
    "right = [4, 5, 6]\n",
    "print(\"Максимальное расстояние манхэттенского туриста:\", manhattan_tourist(n, m, down, right))"
   ]
  },
  {
   "cell_type": "markdown",
   "id": "229afe23-e0f9-4a94-9e35-ae6e41123b5f",
   "metadata": {},
   "source": [
    "# Алгоритм Нидлмана-Вунша"
   ]
  },
  {
   "cell_type": "code",
   "execution_count": 8,
   "id": "ac953b38-492a-4a59-80cc-eb4dfbd6eb5e",
   "metadata": {},
   "outputs": [],
   "source": [
    "def needleman_wunsch(seq1, seq2, match=1, mismatch=-1, gap=-2):\n",
    "    n = len(seq1)\n",
    "    m = len(seq2)\n",
    "    \n",
    "    dp = [[0] * (m + 1) for _ in range(n + 1)]\n",
    "    \n",
    "    for i in range(n + 1):\n",
    "        dp[i][0] = gap * i\n",
    "    for j in range(m + 1):\n",
    "        dp[0][j] = gap * j\n",
    "    \n",
    "    for i in range(1, n + 1):\n",
    "        for j in range(1, m + 1):\n",
    "            score = match if seq1[i - 1] == seq2[j - 1] else mismatch\n",
    "            dp[i][j] = max(dp[i - 1][j - 1] + score,\n",
    "                           dp[i - 1][j] + gap,\n",
    "                           dp[i][j - 1] + gap)\n",
    "    \n",
    "    return dp[n][m]"
   ]
  },
  {
   "cell_type": "code",
   "execution_count": 9,
   "id": "7dd35b15-350f-4b3c-a757-05a5eaef0ede",
   "metadata": {},
   "outputs": [
    {
     "data": {
      "text/plain": [
       "4"
      ]
     },
     "execution_count": 9,
     "metadata": {},
     "output_type": "execute_result"
    }
   ],
   "source": [
    "needleman_wunsch(seq1, seq2)"
   ]
  },
  {
   "cell_type": "markdown",
   "id": "0a891832-6a83-4890-a76b-373e3bdbc884",
   "metadata": {},
   "source": [
    "# Алгоритм Смита-Вотермана"
   ]
  },
  {
   "cell_type": "code",
   "execution_count": 10,
   "id": "953a0cc1-9994-4896-b20f-d6a2d1a380a6",
   "metadata": {},
   "outputs": [],
   "source": [
    "def smith_waterman(seq1, seq2, match=2, mismatch=-1, gap=-0.5):\n",
    "    n = len(seq1)\n",
    "    m = len(seq2)\n",
    "    \n",
    "    dp = [[0] * (m + 1) for _ in range(n + 1)]\n",
    "    max_score = 0\n",
    "    \n",
    "    for i in range(1, n + 1):\n",
    "        for j in range(1, m + 1):\n",
    "            score = match if seq1[i - 1] == seq2[j - 1] else mismatch\n",
    "            dp[i][j] = max(0,\n",
    "                           dp[i - 1][j - 1] + score,\n",
    "                           dp[i - 1][j] + gap,\n",
    "                           dp[i][j - 1] + gap)\n",
    "            max_score = max(max_score, dp[i][j])\n",
    "    \n",
    "    return max_score"
   ]
  },
  {
   "cell_type": "code",
   "execution_count": 11,
   "id": "68fa22c0-d431-440a-930b-40c191a37b4f",
   "metadata": {},
   "outputs": [
    {
     "data": {
      "text/plain": [
       "13.5"
      ]
     },
     "execution_count": 11,
     "metadata": {},
     "output_type": "execute_result"
    }
   ],
   "source": [
    "smith_waterman(seq1, seq2)"
   ]
  }
 ],
 "metadata": {
  "kernelspec": {
   "display_name": "Python 3 (ipykernel)",
   "language": "python",
   "name": "python3"
  },
  "language_info": {
   "codemirror_mode": {
    "name": "ipython",
    "version": 3
   },
   "file_extension": ".py",
   "mimetype": "text/x-python",
   "name": "python",
   "nbconvert_exporter": "python",
   "pygments_lexer": "ipython3",
   "version": "3.12.3"
  }
 },
 "nbformat": 4,
 "nbformat_minor": 5
}
