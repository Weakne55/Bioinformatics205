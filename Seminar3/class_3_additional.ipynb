{
 "cells": [
  {
   "cell_type": "code",
   "execution_count": 8,
   "id": "bcabd975-3537-4874-9563-617043fa07cd",
   "metadata": {},
   "outputs": [
    {
     "name": "stdout",
     "output_type": "stream",
     "text": [
      "Global Alignment:\n",
      "AGCTGT-A\n",
      "|||||  |\n",
      "AGCTG-CA\n",
      "  Score=6\n",
      "\n",
      "AGCTGTA\n",
      "|||||.|\n",
      "AGCTGCA\n",
      "  Score=6\n",
      "\n",
      "\n",
      "Local Alignment:\n",
      "AGCTGT-A\n",
      "|||||  |\n",
      "AGCTG-CA\n",
      "  Score=6\n",
      "\n",
      "AGCTGTA\n",
      "|||||.|\n",
      "AGCTGCA\n",
      "  Score=6\n",
      "\n"
     ]
    },
    {
     "name": "stderr",
     "output_type": "stream",
     "text": [
      "/home/dluppov/.conda/envs/mir11/lib/python3.11/site-packages/Bio/pairwise2.py:278: BiopythonDeprecationWarning: Bio.pairwise2 has been deprecated, and we intend to remove it in a future release of Biopython. As an alternative, please consider using Bio.Align.PairwiseAligner as a replacement, and contact the Biopython developers if you still need the Bio.pairwise2 module.\n",
      "  warnings.warn(\n"
     ]
    }
   ],
   "source": [
    "from Bio import pairwise2\n",
    "from Bio.pairwise2 import format_alignment\n",
    "\n",
    "seq1 = \"AGCTGTA\"\n",
    "seq2 = \"AGCTGCA\"\n",
    "\n",
    "global_alignments = pairwise2.align.globalxx(seq1, seq2)\n",
    "\n",
    "print(\"Global Alignment:\")\n",
    "for alignment in global_alignments:\n",
    "    print(format_alignment(*alignment))\n",
    "\n",
    "local_alignments = pairwise2.align.localxx(seq1, seq2)\n",
    "\n",
    "print(\"\\nLocal Alignment:\")\n",
    "for alignment in local_alignments:\n",
    "    print(format_alignment(*alignment))\n"
   ]
  },
  {
   "cell_type": "code",
   "execution_count": 4,
   "id": "d911694d-d242-491a-9396-fe4e614b128f",
   "metadata": {},
   "outputs": [
    {
     "name": "stdout",
     "output_type": "stream",
     "text": [
      "--2025-02-15 12:45:49--  https://rest.uniprot.org/uniprotkb/O15350.fasta\n",
      "Resolving proxy (proxy)... 10.64.2.122\n",
      "Connecting to proxy (proxy)|10.64.2.122|:3128... connected.\n",
      "Proxy request sent, awaiting response... 200 OK\n",
      "Length: 728 [text/plain]\n",
      "Saving to: ‘O15350.fasta’\n",
      "\n",
      "O15350.fasta        100%[===================>]     728  --.-KB/s    in 0s      \n",
      "\n",
      "2025-02-15 12:45:49 (115 MB/s) - ‘O15350.fasta’ saved [728/728]\n",
      "\n"
     ]
    }
   ],
   "source": [
    "! wget https://rest.uniprot.org/uniprotkb/O15350.fasta"
   ]
  },
  {
   "cell_type": "code",
   "execution_count": 20,
   "id": "5c74383d-f49c-4fa6-abec-1af81ca1af27",
   "metadata": {},
   "outputs": [
    {
     "name": "stdout",
     "output_type": "stream",
     "text": [
      "--2025-02-15 13:06:19--  https://rest.uniprot.org/uniprotkb/Q9JJP2.fasta\n",
      "Resolving proxy (proxy)... 10.64.2.122\n",
      "Connecting to proxy (proxy)|10.64.2.122|:3128... connected.\n",
      "Proxy request sent, awaiting response... 200 OK\n",
      "Length: 724 [text/plain]\n",
      "Saving to: ‘Q9JJP2.fasta’\n",
      "\n",
      "Q9JJP2.fasta        100%[===================>]     724  --.-KB/s    in 0s      \n",
      "\n",
      "2025-02-15 13:06:19 (86.0 MB/s) - ‘Q9JJP2.fasta’ saved [724/724]\n",
      "\n",
      "--2025-02-15 13:06:19--  http://./test.fasta\n",
      "Resolving . (.)... failed: Temporary failure in name resolution.\n",
      "wget: unable to resolve host address ‘.’\n",
      "FINISHED --2025-02-15 13:06:19--\n",
      "Total wall clock time: 0.3s\n",
      "Downloaded: 1 files, 724 in 0s (86.0 MB/s)\n"
     ]
    }
   ],
   "source": [
    "! wget https://rest.uniprot.org/uniprotkb/Q9JJP2.fasta"
   ]
  },
  {
   "cell_type": "code",
   "execution_count": 33,
   "id": "c7cb9100-c8c7-4d75-b2f9-de63a9d1325c",
   "metadata": {},
   "outputs": [
    {
     "name": "stdout",
     "output_type": "stream",
     "text": [
      "MAQSTATSPDGGTTFEHLWSSLEPDSTYFDLPQSSRGNNEVVGGTDSSMDVFHLEGMTTSVMAQFNLLSSTMDQMSSRAASASPYTPEHAASVPTHSPYAQPSSTFDTMSPAPVIPSNTD--------\n",
      "|||....|   ..||||||||||||||||||||.|.|..|..|...|.||||||.|     |||||||||.||||.||||.|||||||||||.|||||||||||||||||||||||||||        \n",
      "MAQTSSSS---SSTFEHLWSSLEPDSTYFDLPQPSQGTSEASGSEESNMDVFHLQG-----MAQFNLLSSAMDQMGSRAAPASPYTPEHAASAPTHSPYAQPSSTFDTMSPAPVIPSNTDYPGPHHFE\n",
      "  Score=767.5\n",
      "\n"
     ]
    }
   ],
   "source": [
    "from Bio import SeqIO\n",
    "from Bio.Align import substitution_matrices\n",
    "from Bio.pairwise2 import format_alignment\n",
    "from Bio import pairwise2\n",
    "\n",
    "\n",
    "\n",
    "blosum80 = substitution_matrices.load(\"BLOSUM80\")\n",
    "\n",
    "seq1 = SeqIO.read(\"TP73_human.fasta\", \"fasta\")[0:120]\n",
    "seq2 = SeqIO.read(\"TP73_mouse.fasta\", \"fasta\")[0:120]\n",
    "\n",
    "alignments = pairwise2.align.globalds(seq1.seq, seq2.seq, blosum80, -10, -0.5)\n",
    "\n",
    "print(pairwise2.format_alignment(*alignments[0]))"
   ]
  },
  {
   "cell_type": "code",
   "execution_count": 34,
   "id": "328a5cdd-c2ff-4069-87d6-0ccaf1bcfdf9",
   "metadata": {},
   "outputs": [
    {
     "data": {
      "text/plain": [
       "Array([[ 7., -3., -3., -3., -1., -2., -2.,  0., -3., -3., -3., -1., -2.,\n",
       "        -4., -1.,  2.,  0., -5., -4., -1., -3., -2., -1., -8.],\n",
       "       [-3.,  9., -1., -3., -6.,  1., -1., -4.,  0., -5., -4.,  3., -3.,\n",
       "        -5., -3., -2., -2., -5., -4., -4., -2.,  0., -2., -8.],\n",
       "       [-3., -1.,  9.,  2., -5.,  0., -1., -1.,  1., -6., -6.,  0., -4.,\n",
       "        -6., -4.,  1.,  0., -7., -4., -5.,  5., -1., -2., -8.],\n",
       "       [-3., -3.,  2., 10., -7., -1.,  2., -3., -2., -7., -7., -2., -6.,\n",
       "        -6., -3., -1., -2., -8., -6., -6.,  6.,  1., -3., -8.],\n",
       "       [-1., -6., -5., -7., 13., -5., -7., -6., -7., -2., -3., -6., -3.,\n",
       "        -4., -6., -2., -2., -5., -5., -2., -6., -7., -4., -8.],\n",
       "       [-2.,  1.,  0., -1., -5.,  9.,  3., -4.,  1., -5., -4.,  2., -1.,\n",
       "        -5., -3., -1., -1., -4., -3., -4., -1.,  5., -2., -8.],\n",
       "       [-2., -1., -1.,  2., -7.,  3.,  8., -4.,  0., -6., -6.,  1., -4.,\n",
       "        -6., -2., -1., -2., -6., -5., -4.,  1.,  6., -2., -8.],\n",
       "       [ 0., -4., -1., -3., -6., -4., -4.,  9., -4., -7., -7., -3., -5.,\n",
       "        -6., -5., -1., -3., -6., -6., -6., -2., -4., -3., -8.],\n",
       "       [-3.,  0.,  1., -2., -7.,  1.,  0., -4., 12., -6., -5., -1., -4.,\n",
       "        -2., -4., -2., -3., -4.,  3., -5., -1.,  0., -2., -8.],\n",
       "       [-3., -5., -6., -7., -2., -5., -6., -7., -6.,  7.,  2., -5.,  2.,\n",
       "        -1., -5., -4., -2., -5., -3.,  4., -6., -6., -2., -8.],\n",
       "       [-3., -4., -6., -7., -3., -4., -6., -7., -5.,  2.,  6., -4.,  3.,\n",
       "         0., -5., -4., -3., -4., -2.,  1., -7., -5., -2., -8.],\n",
       "       [-1.,  3.,  0., -2., -6.,  2.,  1., -3., -1., -5., -4.,  8., -3.,\n",
       "        -5., -2., -1., -1., -6., -4., -4., -1.,  1., -2., -8.],\n",
       "       [-2., -3., -4., -6., -3., -1., -4., -5., -4.,  2.,  3., -3.,  9.,\n",
       "         0., -4., -3., -1., -3., -3.,  1., -5., -3., -2., -8.],\n",
       "       [-4., -5., -6., -6., -4., -5., -6., -6., -2., -1.,  0., -5.,  0.,\n",
       "        10., -6., -4., -4.,  0.,  4., -2., -6., -6., -3., -8.],\n",
       "       [-1., -3., -4., -3., -6., -3., -2., -5., -4., -5., -5., -2., -4.,\n",
       "        -6., 12., -2., -3., -7., -6., -4., -4., -2., -3., -8.],\n",
       "       [ 2., -2.,  1., -1., -2., -1., -1., -1., -2., -4., -4., -1., -3.,\n",
       "        -4., -2.,  7.,  2., -6., -3., -3.,  0., -1., -1., -8.],\n",
       "       [ 0., -2.,  0., -2., -2., -1., -2., -3., -3., -2., -3., -1., -1.,\n",
       "        -4., -3.,  2.,  8., -5., -3.,  0., -1., -2., -1., -8.],\n",
       "       [-5., -5., -7., -8., -5., -4., -6., -6., -4., -5., -4., -6., -3.,\n",
       "         0., -7., -6., -5., 16.,  3., -5., -8., -5., -5., -8.],\n",
       "       [-4., -4., -4., -6., -5., -3., -5., -6.,  3., -3., -2., -4., -3.,\n",
       "         4., -6., -3., -3.,  3., 11., -3., -5., -4., -3., -8.],\n",
       "       [-1., -4., -5., -6., -2., -4., -4., -6., -5.,  4.,  1., -4.,  1.,\n",
       "        -2., -4., -3.,  0., -5., -3.,  7., -6., -4., -2., -8.],\n",
       "       [-3., -2.,  5.,  6., -6., -1.,  1., -2., -1., -6., -7., -1., -5.,\n",
       "        -6., -4.,  0., -1., -8., -5., -6.,  6.,  0., -3., -8.],\n",
       "       [-2.,  0., -1.,  1., -7.,  5.,  6., -4.,  0., -6., -5.,  1., -3.,\n",
       "        -6., -2., -1., -2., -5., -4., -4.,  0.,  6., -1., -8.],\n",
       "       [-1., -2., -2., -3., -4., -2., -2., -3., -2., -2., -2., -2., -2.,\n",
       "        -3., -3., -1., -1., -5., -3., -2., -3., -1., -2., -8.],\n",
       "       [-8., -8., -8., -8., -8., -8., -8., -8., -8., -8., -8., -8., -8.,\n",
       "        -8., -8., -8., -8., -8., -8., -8., -8., -8., -8.,  1.]],\n",
       "         alphabet='ARNDCQEGHILKMFPSTWYVBZX*')"
      ]
     },
     "execution_count": 34,
     "metadata": {},
     "output_type": "execute_result"
    }
   ],
   "source": [
    "blosum80"
   ]
  },
  {
   "cell_type": "code",
   "execution_count": 35,
   "id": "8fcbc276-f194-45a1-b6f9-95b4396ebf46",
   "metadata": {},
   "outputs": [
    {
     "name": "stdout",
     "output_type": "stream",
     "text": [
      "--2025-02-15 15:55:13--  https://rest.uniprot.org/uniprotkb/Q07325.fasta\n",
      "Resolving proxy (proxy)... 10.64.2.122\n",
      "Connecting to proxy (proxy)|10.64.2.122|:3128... connected.\n",
      "Proxy request sent, awaiting response... 200 OK\n",
      "Length: 218 [text/plain]\n",
      "Saving to: ‘Q07325.fasta’\n",
      "\n",
      "Q07325.fasta        100%[===================>]     218  --.-KB/s    in 0s      \n",
      "\n",
      "2025-02-15 15:55:13 (27.6 MB/s) - ‘Q07325.fasta’ saved [218/218]\n",
      "\n",
      "/bin/bash: https://rest.uniprot.org/uniprotkb/P18340.fasta: No such file or directory\n"
     ]
    }
   ],
   "source": [
    "! wget https://rest.uniprot.org/uniprotkb/Q07325.fasta\n",
    "! https://rest.uniprot.org/uniprotkb/P18340.fasta"
   ]
  },
  {
   "cell_type": "code",
   "execution_count": 37,
   "id": "b79046aa-b269-4a3f-8e23-999b1a77f0f2",
   "metadata": {},
   "outputs": [
    {
     "name": "stdout",
     "output_type": "stream",
     "text": [
      "MKKSGVLFLLGIILLVLIGVQGTPVVRKGRCSCIST--------------------NQGT-------------IHLQSLKDLKQF--------------AP----------------------------SPSCEKIEIIATLKNGVQTCLNPDSADVKELIKKWEKQVSQKKKQKNGKKHQKKKVLKVRKSQRSR\n",
      "|....                         .|..||                    .|||             .|||.   ..||              ||                            ||.    ..|            |...|..                  |..|..             \n",
      "MAQTS-------------------------SSSSSTFEHLWSSLEPDSTYFDLPQPSQGTSEASGSEESNMDVFHLQG---MAQFNLLSSAMDQMGSRAAPASPYTPEHAASAPTHSPYAQPSSTFDTMSPA----PVI------------PSNTDYP------------------GPHHFE-------------\n",
      "  Score=8\n",
      "\n"
     ]
    }
   ],
   "source": [
    "seq1 = SeqIO.read(\"human_cxcl9.fasta\", \"fasta\")[0:120]\n",
    "seq2 = SeqIO.read(\"mouse_CXCl9.fasta\", \"fasta\")[0:120]\n",
    "\n",
    "alignments = pairwise2.align.globalds(seq1.seq, seq2.seq, blosum80, -10, -0.5)\n",
    "\n",
    "print(pairwise2.format_alignment(*alignments[0]))"
   ]
  }
 ],
 "metadata": {
  "kernelspec": {
   "display_name": "Python 3 (ipykernel)",
   "language": "python",
   "name": "python3"
  },
  "language_info": {
   "codemirror_mode": {
    "name": "ipython",
    "version": 3
   },
   "file_extension": ".py",
   "mimetype": "text/x-python",
   "name": "python",
   "nbconvert_exporter": "python",
   "pygments_lexer": "ipython3",
   "version": "3.12.3"
  }
 },
 "nbformat": 4,
 "nbformat_minor": 5
}
