{
 "cells": [
  {
   "cell_type": "markdown",
   "id": "9a3a5b2f-512a-475f-8953-cb37fe0cb610",
   "metadata": {},
   "source": [
    "# Cеминар 3"
   ]
  },
  {
   "cell_type": "markdown",
   "id": "3c7c4128-8117-4239-ae7a-5e64e3b506b4",
   "metadata": {
    "tags": []
   },
   "source": [
    "## Примеры на сегодня"
   ]
  },
  {
   "cell_type": "raw",
   "id": "fd5040c6-81c6-48a9-be24-f9430d8c55f8",
   "metadata": {},
   "source": [
    "1. ДНК последовательности (состоящие из нуклеотидов A, T, C, G):\n",
    "   • seq1 = \"ATCGTAGC\"\n",
    "   • seq2 = \"ATCGTACG\"\n",
    "   • seq3 = \"GCTAGCTA\"\n",
    "   • seq4 = \"TACGATCG\"\n",
    "2. РНК последовательности (состоящие из нуклеотидов A, U, C, G):\n",
    "   • rna1 = \"AUGCUAGC\"\n",
    "   • rna2 = \"AUGCUGCA\"\n",
    "   • rna3 = \"GCUAGCUA\"\n",
    "   • rna4 = \"UACGAUCG\"\n",
    "3. Белковые последовательности (состоящие из аминокислот, обозначаемых однобуквенными кодами):\n",
    "   • protein1 = \"ACDEFGHIKLMNPQRSTVWY\"\n",
    "   • protein2 = \"ACDFGHIKLMNPRSTVWY\"\n",
    "   • protein3 = \"ACDEFGHLMNPQRSTVWX\"\n",
    "   • protein4 = \"ABCDEFGHIJKLMN\""
   ]
  },
  {
   "cell_type": "code",
   "execution_count": 16,
   "id": "1db3de22-7d86-4272-9726-eb903c6a047c",
   "metadata": {},
   "outputs": [],
   "source": [
    "seq1 = \"ATCGTAGC\"\n",
    "seq2 = \"ATCGTACG\"\n",
    "seq3 = \"GCTAGCTA\"\n",
    "seq4 = \"TACGATCG\"\n",
    "addseq1 = \"ACATGTCCAAA\"\n",
    "addseq2 = \"ATTCCAAT\"\n",
    "\n",
    "rna1 = \"AUGCUAGC\"\n",
    "rna2 = \"AUGCUGCA\"\n",
    "rna3 = \"GCUAGCUA\"\n",
    "rna4 = \"UACGAUCG\"\n",
    "\n",
    "protein1 = \"ACDEFGHIKLMNPQRSTVWY\"\n",
    "protein2 = \"ACDFGHIKLMNPRSTVWY\"\n",
    "protein3 = \"ACDEFGHLMNPQRSTVWX\"\n",
    "protein4 = \"ABCDEFGHIJKLMN\""
   ]
  },
  {
   "cell_type": "markdown",
   "id": "487febbb-2658-44fd-8b5a-99ffb53bab25",
   "metadata": {},
   "source": [
    "##  Расстояние Хэмминга"
   ]
  },
  {
   "cell_type": "code",
   "execution_count": 4,
   "id": "ba04a4db-c0b6-4c93-84d8-640e06febfb0",
   "metadata": {},
   "outputs": [],
   "source": [
    "def hamming_distance(s1, s2):\n",
    "    if len(s1) != len(s2):\n",
    "        raise ValueError(\"Strings must be of the same length\")\n",
    "    return sum(el1 != el2 for el1, el2 in zip(s1, s2))"
   ]
  },
  {
   "cell_type": "code",
   "execution_count": 5,
   "id": "9c2510ae-66c5-42f3-b8a3-4200b86db4d2",
   "metadata": {},
   "outputs": [
    {
     "data": {
      "text/plain": [
       "2"
      ]
     },
     "execution_count": 5,
     "metadata": {},
     "output_type": "execute_result"
    }
   ],
   "source": [
    "hamming_distance(seq1, seq2)"
   ]
  },
  {
   "cell_type": "code",
   "execution_count": 173,
   "id": "80daebed-fc85-4e40-9dfb-6a780bbbc987",
   "metadata": {
    "tags": []
   },
   "outputs": [],
   "source": [
    "def hamming_gaps(s1,s2):\n",
    "    if len(s1) < len(s2):\n",
    "        long = s2\n",
    "        short = s1\n",
    "    else:\n",
    "        long = s1\n",
    "        short = s2\n",
    "    result = list()\n",
    "    for i in range(len(short)):\n",
    "        if len(result) == 0:\n",
    "            last_index = -1\n",
    "        else:\n",
    "            last_index = result[-1]\n",
    "        result.append(long.find(short[i],last_index+1)) \n",
    "    if result[-1] == -1:\n",
    "        result[-1] = len(long)-1\n",
    "    output = ['-']*len(long)\n",
    "    for i in range(len(short)):\n",
    "        output[result[i]] = short[i]\n",
    "    return output\n",
    "            \n",
    "            \n",
    "        "
   ]
  },
  {
   "cell_type": "code",
   "execution_count": 174,
   "id": "a7813fb4-d65d-4bdc-9a79-f7a91af09946",
   "metadata": {},
   "outputs": [
    {
     "name": "stdout",
     "output_type": "stream",
     "text": [
      "ACATGTCCAAA\n",
      "ATTCCAAT\n",
      "\n",
      "ACATGTCCAAA\n",
      "A--T-TCCAAT\n"
     ]
    }
   ],
   "source": [
    "print(addseq1,addseq2,sep='\\n',end='\\n\\n')\n",
    "print(addseq1,''.join(hamming_gaps(addseq1,addseq2)),sep='\\n')"
   ]
  },
  {
   "cell_type": "markdown",
   "id": "a81db23c-f2b7-4ffc-b649-aec93a5e2761",
   "metadata": {},
   "source": [
    "##  Расстояние Левенштейна"
   ]
  },
  {
   "cell_type": "code",
   "execution_count": 149,
   "id": "4f23b2fa-a3f7-4515-ac1c-522dacd1b4a9",
   "metadata": {
    "tags": []
   },
   "outputs": [],
   "source": [
    "def levenshtein_distance(s1, s2):\n",
    "\n",
    "    dp = [[0] * (len(s2) + 1) for _ in range(len(s1) + 1)]\n",
    "    \n",
    "    for i in range(len(s1) + 1):\n",
    "        dp[i][0] = i\n",
    "    for j in range(len(s2) + 1):\n",
    "        dp[0][j] = j\n",
    "    \n",
    "    for i in range(1, len(s1) + 1):\n",
    "        for j in range(1, len(s2) + 1):\n",
    "            if s1[i - 1] == s2[j - 1]:\n",
    "                dp[i][j] = dp[i - 1][j - 1]\n",
    "            else:\n",
    "                dp[i][j] = min(dp[i - 1][j] + 1,    # Удаление\n",
    "                               dp[i][j - 1] + 1,    # Вставка\n",
    "                               dp[i - 1][j - 1] + 1)  # Замена\n",
    "    \n",
    "    s1 = '0' + s1\n",
    "    s2 = '0' + s2\n",
    "    for j in range(len(s1)):\n",
    "        dp[j].insert(0,s1[j])\n",
    "        \n",
    "    new_row = ['$']+list(s2)\n",
    "    dp.insert(0, new_row)\n",
    "    for row in dp:\n",
    "        print(\" \".join(map(str, row)))\n",
    "    \n",
    "    return dp[len(s1)][len(s2)]\n"
   ]
  },
  {
   "cell_type": "code",
   "execution_count": 172,
   "id": "83f14fad-d135-4632-9ac6-937096692b5b",
   "metadata": {},
   "outputs": [
    {
     "name": "stdout",
     "output_type": "stream",
     "text": [
      "$ 0 в и л к а\n",
      "0 0 1 2 3 4 5\n",
      "в 1 0 1 2 3 4\n",
      "и 2 1 0 1 2 3\n",
      "к 3 2 1 1 1 2\n",
      "а 4 3 2 2 2 1\n"
     ]
    },
    {
     "data": {
      "text/plain": [
       "1"
      ]
     },
     "execution_count": 172,
     "metadata": {},
     "output_type": "execute_result"
    }
   ],
   "source": [
    "levenshtein_distance(\"вика\", \"вилка\")"
   ]
  },
  {
   "cell_type": "markdown",
   "id": "4196a13a-94b5-4ef9-bc28-9202b9d603a6",
   "metadata": {},
   "source": [
    "## Алгоритм Нидлмана-Вунша"
   ]
  },
  {
   "cell_type": "code",
   "execution_count": 1,
   "id": "b51a234c-c8d1-43a8-98b8-9f4f29bb61f1",
   "metadata": {},
   "outputs": [],
   "source": [
    "def needleman_wunsch(seq1, seq2, match=1, mismatch=-1, gap=-1):\n",
    "    n = len(seq1)\n",
    "    m = len(seq2)\n",
    "    \n",
    "    dp = [[0] * (m + 1) for _ in range(n + 1)]\n",
    "    \n",
    "    for i in range(n + 1):\n",
    "        dp[i][0] = gap * i\n",
    "    for j in range(m + 1):\n",
    "        dp[0][j] = gap * j\n",
    "    \n",
    "    for i in range(1, n + 1):\n",
    "        for j in range(1, m + 1):\n",
    "            score = match if seq1[i - 1] == seq2[j - 1] else mismatch\n",
    "            dp[i][j] = max(dp[i - 1][j - 1] + score,\n",
    "                           dp[i - 1][j] + gap,\n",
    "                           dp[i][j - 1] + gap)\n",
    "            \n",
    "    seq1 = '0' + seq1\n",
    "    seq2 = '0' + seq2\n",
    "    \n",
    "    for j in range(len(seq1)):\n",
    "        dp[j].insert(0,seq1[j])\n",
    "        \n",
    "    new_row = ['$']+list(seq2)\n",
    "    dp.insert(0, new_row)\n",
    "    for row in dp:\n",
    "        print(\"\\t\".join(map(str, row)))\n",
    "        \n",
    "    return dp"
   ]
  },
  {
   "cell_type": "code",
   "execution_count": 2,
   "id": "e29e895b-2a17-4051-b4f2-b504c9449fcc",
   "metadata": {},
   "outputs": [
    {
     "name": "stdout",
     "output_type": "stream",
     "text": [
      "$\t0\tC\tG\tT\tT\tA\tA\tC\n",
      "0\t0\t-3\t-6\t-9\t-12\t-15\t-18\t-21\n",
      "A\t-3\t-2\t-5\t-8\t-11\t-10\t-13\t-16\n",
      "T\t-6\t-5\t-4\t-3\t-6\t-9\t-12\t-15\n",
      "G\t-9\t-8\t-3\t-6\t-5\t-8\t-11\t-14\n",
      "A\t-12\t-11\t-6\t-5\t-8\t-3\t-6\t-9\n",
      "C\t-15\t-10\t-9\t-8\t-7\t-6\t-5\t-4\n",
      "G\t-18\t-13\t-8\t-11\t-10\t-9\t-8\t-7\n",
      "C\t-21\t-16\t-11\t-10\t-13\t-12\t-11\t-6\n"
     ]
    }
   ],
   "source": [
    "data = needleman_wunsch('ATGACGC', 'CGTTAAC',match=2, mismatch=-2, gap=-3)"
   ]
  },
  {
   "cell_type": "code",
   "execution_count": 8,
   "id": "fcf2f0e5",
   "metadata": {},
   "outputs": [],
   "source": [
    "def needleman_wunsch(seq1, seq2, match=1, mismatch=-1, gap=-1):\n",
    "    n = len(seq1)\n",
    "    m = len(seq2)\n",
    "    \n",
    "    dp = [[0] * (m + 1) for _ in range(n + 1)]\n",
    "    \n",
    "    for i in range(n + 1):\n",
    "        dp[i][0] = gap * i\n",
    "    for j in range(m + 1):\n",
    "        dp[0][j] = gap * j\n",
    "    \n",
    "    for i in range(1, n + 1):\n",
    "        for j in range(1, m + 1):\n",
    "            score = match if seq1[i - 1] == seq2[j - 1] else mismatch\n",
    "            dp[i][j] = max(dp[i - 1][j - 1] + score,\n",
    "                           dp[i - 1][j] + gap,\n",
    "                           dp[i][j - 1] + gap)\n",
    "            \n",
    "        \n",
    "    return dp"
   ]
  },
  {
   "cell_type": "code",
   "execution_count": 9,
   "id": "f76097b2",
   "metadata": {},
   "outputs": [],
   "source": [
    "data = needleman_wunsch('CGTTAAC', 'ATGACGC',match=2, mismatch=-2, gap=-3)"
   ]
  },
  {
   "cell_type": "code",
   "execution_count": 14,
   "id": "e4627378",
   "metadata": {},
   "outputs": [
    {
     "data": {
      "text/plain": [
       "[[0, -3, -6, -9, -12, -15, -18, -21],\n",
       " [-3, -2, -5, -8, -11, -10, -13, -16],\n",
       " [-6, -5, -4, -3, -6, -9, -8, -11],\n",
       " [-9, -8, -3, -6, -5, -8, -11, -10],\n",
       " [-12, -11, -6, -5, -8, -7, -10, -13],\n",
       " [-15, -10, -9, -8, -3, -6, -9, -12],\n",
       " [-18, -13, -12, -11, -6, -5, -8, -11],\n",
       " [-21, -16, -15, -14, -9, -4, -7, -6]]"
      ]
     },
     "execution_count": 14,
     "metadata": {},
     "output_type": "execute_result"
    }
   ],
   "source": [
    "data"
   ]
  },
  {
   "cell_type": "raw",
   "id": "8c140fec",
   "metadata": {},
   "source": [
    "GACGAAG\n",
    " || |||\n",
    " ACCAAG"
   ]
  },
  {
   "cell_type": "code",
   "execution_count": 12,
   "id": "f3bea62b",
   "metadata": {},
   "outputs": [],
   "source": [
    "def traceback_needleman_wunsch(matrix, seq1, seq2, gap_penalty):\n",
    "    aligned_seq1 = []\n",
    "    aligned_seq2 = []\n",
    "    \n",
    "    i, j = len(seq1), len(seq2)\n",
    "\n",
    "    while i > 0 or j > 0:\n",
    "        current_score = matrix[i][j]\n",
    "        \n",
    "        if i > 0 and j > 0 and matrix[i-1][j-1] + (2 if seq1[i-1] == seq2[j-1] else -2) == current_score:\n",
    "            # Диагональ (совпадение или замена)\n",
    "            aligned_seq1.append(seq1[i-1])\n",
    "            aligned_seq2.append(seq2[j-1])\n",
    "            i -= 1\n",
    "            j -= 1\n",
    "        elif i > 0 and matrix[i-1][j] + gap_penalty == current_score:\n",
    "            # Вверх (вставка)\n",
    "            aligned_seq1.append(seq1[i-1])\n",
    "            aligned_seq2.append('-')\n",
    "            i -= 1\n",
    "        else:\n",
    "            # Влево (удаление)\n",
    "            aligned_seq1.append('-')\n",
    "            aligned_seq2.append(seq2[j-1])\n",
    "            j -= 1\n",
    "\n",
    "    return ''.join(reversed(aligned_seq1)), ''.join(reversed(aligned_seq2))\n",
    "\n",
    "# Пример вызова:\n",
    "# aligned1, aligned2 = traceback_needleman_wunsch(matrix, \"GATTACA\", \"GCATGCU\", -1)\n"
   ]
  },
  {
   "cell_type": "code",
   "execution_count": 13,
   "id": "a788a5cf",
   "metadata": {},
   "outputs": [
    {
     "name": "stdout",
     "output_type": "stream",
     "text": [
      "CGTTA-AC\n",
      "-ATGACGC\n"
     ]
    }
   ],
   "source": [
    "aligned1, aligned2 = traceback_needleman_wunsch(data, \"CGTTAAC\", \"ATGACGC\", -3)\n",
    "print(aligned1)\n",
    "print(aligned2)"
   ]
  },
  {
   "cell_type": "raw",
   "id": "f039a5be",
   "metadata": {},
   "source": [
    "CGTTA-AC\n",
    "  | |  |\n",
    "-ATGACGC\n",
    "\n",
    "score = 3*2 + 2*(-3) + 3*(-2) = -6"
   ]
  }
 ],
 "metadata": {
  "kernelspec": {
   "display_name": "Python 3 (ipykernel)",
   "language": "python",
   "name": "python3"
  },
  "language_info": {
   "codemirror_mode": {
    "name": "ipython",
    "version": 3
   },
   "file_extension": ".py",
   "mimetype": "text/x-python",
   "name": "python",
   "nbconvert_exporter": "python",
   "pygments_lexer": "ipython3",
   "version": "3.12.3"
  },
  "toc-autonumbering": false,
  "toc-showmarkdowntxt": true,
  "toc-showtags": true
 },
 "nbformat": 4,
 "nbformat_minor": 5
}
