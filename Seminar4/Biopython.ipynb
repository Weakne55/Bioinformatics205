{
 "cells": [
  {
   "cell_type": "code",
   "execution_count": 15,
   "id": "cca93a10",
   "metadata": {},
   "outputs": [],
   "source": [
    "from Bio import AlignIO\n",
    "from Bio import motifs"
   ]
  },
  {
   "cell_type": "code",
   "execution_count": 11,
   "id": "70646c5a",
   "metadata": {},
   "outputs": [],
   "source": [
    "alignment = AlignIO.read(\"dna.fna\", \"fasta\")"
   ]
  },
  {
   "cell_type": "code",
   "execution_count": 19,
   "id": "3dab5100",
   "metadata": {},
   "outputs": [
    {
     "name": "stdout",
     "output_type": "stream",
     "text": [
      "ATCCAGCT\n",
      "GGGCAACT\n",
      "ATGGATCT\n",
      "AAGCAACC\n",
      "TTGGAACT\n",
      "ATGCCATT\n",
      "ATGGCACT\n"
     ]
    }
   ],
   "source": [
    "sequences = [record.seq for record in alignment]\n",
    "for el in sequences:\n",
    "    print(el)"
   ]
  },
  {
   "cell_type": "code",
   "execution_count": 16,
   "id": "4e26d851",
   "metadata": {},
   "outputs": [],
   "source": [
    "motif = motifs.create(sequences)"
   ]
  },
  {
   "cell_type": "code",
   "execution_count": 18,
   "id": "32941b0e",
   "metadata": {},
   "outputs": [
    {
     "name": "stdout",
     "output_type": "stream",
     "text": [
      "ATGCAACT\n"
     ]
    }
   ],
   "source": [
    "consensus = motif.consensus\n",
    "print(consensus)"
   ]
  },
  {
   "cell_type": "code",
   "execution_count": 21,
   "id": "2153eab2",
   "metadata": {},
   "outputs": [
    {
     "name": "stdout",
     "output_type": "stream",
     "text": [
      "        0      1      2      3      4      5      6      7\n",
      "A:   5.00   1.00   0.00   0.00   5.00   5.00   0.00   0.00\n",
      "C:   0.00   0.00   1.00   4.00   2.00   0.00   6.00   1.00\n",
      "G:   1.00   1.00   6.00   3.00   0.00   1.00   0.00   0.00\n",
      "T:   1.00   5.00   0.00   0.00   0.00   1.00   1.00   6.00\n",
      "\n"
     ]
    }
   ],
   "source": [
    "counts = motif.counts\n",
    "print(counts)"
   ]
  },
  {
   "cell_type": "code",
   "execution_count": 23,
   "id": "8a7073e5",
   "metadata": {},
   "outputs": [
    {
     "name": "stdout",
     "output_type": "stream",
     "text": [
      "ATGCAACT\n",
      "A: 5 1 0 0 5 5 0 0\n",
      "C: 0 0 1 4 2 0 6 1\n",
      "G: 1 1 6 3 0 1 0 0\n",
      "T: 1 5 0 0 0 1 1 6\n"
     ]
    }
   ],
   "source": [
    "print(consensus)\n",
    "for base in \"ACGT\":\n",
    "    print(f\"{base}: {' '.join(str(int(counts[base][i])) for i in range(len(consensus)))}\")"
   ]
  }
 ],
 "metadata": {
  "kernelspec": {
   "display_name": "work",
   "language": "python",
   "name": "work"
  },
  "language_info": {
   "codemirror_mode": {
    "name": "ipython",
    "version": 3
   },
   "file_extension": ".py",
   "mimetype": "text/x-python",
   "name": "python",
   "nbconvert_exporter": "python",
   "pygments_lexer": "ipython3",
   "version": "3.13.2"
  }
 },
 "nbformat": 4,
 "nbformat_minor": 5
}
